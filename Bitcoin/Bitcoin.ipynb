{
 "cells": [
  {
   "cell_type": "code",
   "execution_count": 2,
   "metadata": {},
   "outputs": [
    {
     "name": "stdout",
     "output_type": "stream",
     "text": [
      "Collecting plotly\n",
      "  Downloading plotly-4.14.3-py2.py3-none-any.whl (13.2 MB)\n",
      "Requirement already satisfied: six in c:\\programdata\\anaconda3\\envs\\keras\\lib\\site-packages (from plotly) (1.15.0)\n",
      "Collecting retrying>=1.3.3\n",
      "  Using cached retrying-1.3.3.tar.gz (10 kB)\n",
      "Building wheels for collected packages: retrying\n",
      "  Building wheel for retrying (setup.py): started\n",
      "  Building wheel for retrying (setup.py): finished with status 'done'\n",
      "  Created wheel for retrying: filename=retrying-1.3.3-py3-none-any.whl size=11434 sha256=8903a98a102929a66ec18490cc3c4dd9ffe0af02a22fccfa20b42a4b9935ee9e\n",
      "  Stored in directory: c:\\users\\saurabh\\appdata\\local\\pip\\cache\\wheels\\f9\\8d\\8d\\f6af3f7f9eea3553bc2fe6d53e4b287dad18b06a861ac56ddf\n",
      "Successfully built retrying\n",
      "Installing collected packages: retrying, plotly\n",
      "Successfully installed plotly-4.14.3 retrying-1.3.3\n",
      "Note: you may need to restart the kernel to use updated packages.\n"
     ]
    }
   ],
   "source": [
    "    pip install plotly \n"
   ]
  },
  {
   "cell_type": "code",
   "execution_count": 4,
   "metadata": {},
   "outputs": [
    {
     "name": "stdout",
     "output_type": "stream",
     "text": [
      "Collecting chart-studio\n",
      "  Downloading chart_studio-1.1.0-py3-none-any.whl (64 kB)\n",
      "Requirement already satisfied: plotly in c:\\programdata\\anaconda3\\envs\\keras\\lib\\site-packages (from chart-studio) (4.14.3)\n",
      "Requirement already satisfied: requests in c:\\programdata\\anaconda3\\envs\\keras\\lib\\site-packages (from chart-studio) (2.24.0)\n",
      "Requirement already satisfied: retrying>=1.3.3 in c:\\programdata\\anaconda3\\envs\\keras\\lib\\site-packages (from chart-studio) (1.3.3)\n",
      "Requirement already satisfied: six in c:\\programdata\\anaconda3\\envs\\keras\\lib\\site-packages (from chart-studio) (1.15.0)\n",
      "Requirement already satisfied: idna<3,>=2.5 in c:\\programdata\\anaconda3\\envs\\keras\\lib\\site-packages (from requests->chart-studio) (2.10)\n",
      "Requirement already satisfied: chardet<4,>=3.0.2 in c:\\programdata\\anaconda3\\envs\\keras\\lib\\site-packages (from requests->chart-studio) (3.0.4)\n",
      "Requirement already satisfied: urllib3!=1.25.0,!=1.25.1,<1.26,>=1.21.1 in c:\\programdata\\anaconda3\\envs\\keras\\lib\\site-packages (from requests->chart-studio) (1.25.10)\n",
      "Requirement already satisfied: certifi>=2017.4.17 in c:\\programdata\\anaconda3\\envs\\keras\\lib\\site-packages (from requests->chart-studio) (2020.6.20)\n",
      "Installing collected packages: chart-studio\n",
      "Successfully installed chart-studio-1.1.0\n",
      "Note: you may need to restart the kernel to use updated packages.\n"
     ]
    }
   ],
   "source": [
    "pip install chart-studio"
   ]
  },
  {
   "cell_type": "markdown",
   "metadata": {},
   "source": [
    "# Importing necessary Libraries"
   ]
  },
  {
   "cell_type": "code",
   "execution_count": 36,
   "metadata": {},
   "outputs": [],
   "source": [
    "import numpy as np # linear algebra\n",
    "import pandas as pd # data processing, CSV file I/O (e.g. pd.read_csv)\n",
    "import matplotlib.pyplot as plt\n",
    "import warnings\n",
    "warnings.filterwarnings(\"ignore\")\n",
    "import os\n",
    "\n"
   ]
  },
  {
   "cell_type": "markdown",
   "metadata": {},
   "source": [
    "# Data Exploration\n"
   ]
  },
  {
   "cell_type": "code",
   "execution_count": 37,
   "metadata": {},
   "outputs": [],
   "source": [
    "bit_data=pd.read_csv(r'C:\\Users\\Saurabh\\Projects\\bitcoin.csv')\n",
    "bit_data[\"date\"]=pd.to_datetime(bit_data[\"Timestamp\"],unit=\"s\").dt.date\n",
    "group=bit_data.groupby(\"date\")\n",
    "data=group[\"Close\"].mean()"
   ]
  },
  {
   "cell_type": "code",
   "execution_count": 38,
   "metadata": {},
   "outputs": [
    {
     "data": {
      "text/plain": [
       "(729,)"
      ]
     },
     "execution_count": 38,
     "metadata": {},
     "output_type": "execute_result"
    }
   ],
   "source": [
    "data.shape\n"
   ]
  },
  {
   "cell_type": "code",
   "execution_count": 39,
   "metadata": {},
   "outputs": [
    {
     "data": {
      "text/plain": [
       "0"
      ]
     },
     "execution_count": 39,
     "metadata": {},
     "output_type": "execute_result"
    }
   ],
   "source": [
    "data.isnull().sum()\n"
   ]
  },
  {
   "cell_type": "code",
   "execution_count": 40,
   "metadata": {},
   "outputs": [
    {
     "data": {
      "text/plain": [
       "date\n",
       "2011-12-31    4.482500\n",
       "2012-01-01    4.806667\n",
       "2012-01-02    5.000000\n",
       "2012-01-03    5.252500\n",
       "2012-01-04    5.223333\n",
       "Name: Close, dtype: float64"
      ]
     },
     "execution_count": 40,
     "metadata": {},
     "output_type": "execute_result"
    }
   ],
   "source": [
    "data.head()\n"
   ]
  },
  {
   "cell_type": "markdown",
   "metadata": {},
   "source": [
    "# RNN"
   ]
  },
  {
   "cell_type": "code",
   "execution_count": 41,
   "metadata": {},
   "outputs": [],
   "source": [
    "close_train=data.iloc[:len(data)-50]\n",
    "close_test=data.iloc[len(close_train):]"
   ]
  },
  {
   "cell_type": "code",
   "execution_count": 42,
   "metadata": {},
   "outputs": [],
   "source": [
    "#feature scalling (set values between 0-1)\n",
    "close_train=np.array(close_train)\n",
    "close_train=close_train.reshape(close_train.shape[0],1)\n",
    "from sklearn.preprocessing import MinMaxScaler\n",
    "scaler=MinMaxScaler(feature_range=(0,1))\n",
    "close_scaled=scaler.fit_transform(close_train)"
   ]
  },
  {
   "cell_type": "code",
   "execution_count": 43,
   "metadata": {},
   "outputs": [
    {
     "name": "stdout",
     "output_type": "stream",
     "text": [
      "x_train shape=  (629, 50, 1)\n",
      "y_train shape=  (629,)\n"
     ]
    }
   ],
   "source": [
    "timestep=50\n",
    "x_train=[]\n",
    "y_train=[]\n",
    "\n",
    "for i in range(timestep,close_scaled.shape[0]):\n",
    "    x_train.append(close_scaled[i-timestep:i,0])\n",
    "    y_train.append(close_scaled[i,0])\n",
    "\n",
    "x_train,y_train=np.array(x_train),np.array(y_train)\n",
    "x_train=x_train.reshape(x_train.shape[0],x_train.shape[1],1) #reshaped for RNN\n",
    "print(\"x_train shape= \",x_train.shape)\n",
    "print(\"y_train shape= \",y_train.shape)"
   ]
  },
  {
   "cell_type": "code",
   "execution_count": 44,
   "metadata": {},
   "outputs": [
    {
     "name": "stderr",
     "output_type": "stream",
     "text": [
      "Using TensorFlow backend.\n"
     ]
    },
    {
     "name": "stdout",
     "output_type": "stream",
     "text": [
      "WARNING:tensorflow:From C:\\ProgramData\\Anaconda3\\envs\\keras\\lib\\site-packages\\keras\\backend\\tensorflow_backend.py:422: The name tf.global_variables is deprecated. Please use tf.compat.v1.global_variables instead.\n",
      "\n",
      "Epoch 1/100\n",
      "629/629 [==============================] - 4s 7ms/step - loss: 0.1015\n",
      "Epoch 2/100\n",
      "629/629 [==============================] - 3s 5ms/step - loss: 0.0171\n",
      "Epoch 3/100\n",
      "629/629 [==============================] - 3s 5ms/step - loss: 0.0059\n",
      "Epoch 4/100\n",
      "629/629 [==============================] - 3s 5ms/step - loss: 0.0053\n",
      "Epoch 5/100\n",
      "629/629 [==============================] - 3s 5ms/step - loss: 0.0047\n",
      "Epoch 6/100\n",
      "629/629 [==============================] - 3s 5ms/step - loss: 0.0037\n",
      "Epoch 7/100\n",
      "629/629 [==============================] - 3s 5ms/step - loss: 0.0035\n",
      "Epoch 8/100\n",
      "629/629 [==============================] - 4s 6ms/step - loss: 0.0036\n",
      "Epoch 9/100\n",
      "629/629 [==============================] - 4s 7ms/step - loss: 0.0033\n",
      "Epoch 10/100\n",
      "629/629 [==============================] - 4s 6ms/step - loss: 0.0031\n",
      "Epoch 11/100\n",
      "629/629 [==============================] - 4s 6ms/step - loss: 0.0029\n",
      "Epoch 12/100\n",
      "629/629 [==============================] - 4s 6ms/step - loss: 0.0026\n",
      "Epoch 13/100\n",
      "629/629 [==============================] - 4s 6ms/step - loss: 0.0026\n",
      "Epoch 14/100\n",
      "629/629 [==============================] - 4s 6ms/step - loss: 0.0027\n",
      "Epoch 15/100\n",
      "629/629 [==============================] - 4s 6ms/step - loss: 0.0025\n",
      "Epoch 16/100\n",
      "629/629 [==============================] - 4s 6ms/step - loss: 0.0021\n",
      "Epoch 17/100\n",
      "629/629 [==============================] - 4s 6ms/step - loss: 0.0027\n",
      "Epoch 18/100\n",
      "629/629 [==============================] - 4s 6ms/step - loss: 0.0024\n",
      "Epoch 19/100\n",
      "629/629 [==============================] - 4s 6ms/step - loss: 0.0023\n",
      "Epoch 20/100\n",
      "629/629 [==============================] - 4s 6ms/step - loss: 0.0022\n",
      "Epoch 21/100\n",
      "629/629 [==============================] - 4s 6ms/step - loss: 0.0020\n",
      "Epoch 22/100\n",
      "629/629 [==============================] - 4s 6ms/step - loss: 0.0018\n",
      "Epoch 23/100\n",
      "629/629 [==============================] - 4s 6ms/step - loss: 0.0018\n",
      "Epoch 24/100\n",
      "629/629 [==============================] - 3s 6ms/step - loss: 0.0023\n",
      "Epoch 25/100\n",
      "629/629 [==============================] - 3s 6ms/step - loss: 0.0019\n",
      "Epoch 26/100\n",
      "629/629 [==============================] - 3s 6ms/step - loss: 0.0019\n",
      "Epoch 27/100\n",
      "629/629 [==============================] - 4s 6ms/step - loss: 0.0017\n",
      "Epoch 28/100\n",
      "629/629 [==============================] - 4s 6ms/step - loss: 0.0016\n",
      "Epoch 29/100\n",
      "629/629 [==============================] - 4s 6ms/step - loss: 0.0014\n",
      "Epoch 30/100\n",
      "629/629 [==============================] - 4s 6ms/step - loss: 0.0013\n",
      "Epoch 31/100\n",
      "629/629 [==============================] - 4s 6ms/step - loss: 0.0014\n",
      "Epoch 32/100\n",
      "629/629 [==============================] - 4s 6ms/step - loss: 0.0013\n",
      "Epoch 33/100\n",
      "629/629 [==============================] - 4s 6ms/step - loss: 0.0013\n",
      "Epoch 34/100\n",
      "629/629 [==============================] - 4s 6ms/step - loss: 0.0012\n",
      "Epoch 35/100\n",
      "629/629 [==============================] - 4s 6ms/step - loss: 0.0015\n",
      "Epoch 36/100\n",
      "629/629 [==============================] - 4s 6ms/step - loss: 0.0015\n",
      "Epoch 37/100\n",
      "629/629 [==============================] - 4s 6ms/step - loss: 0.0021\n",
      "Epoch 38/100\n",
      "629/629 [==============================] - 4s 7ms/step - loss: 0.0016\n",
      "Epoch 39/100\n",
      "629/629 [==============================] - 4s 6ms/step - loss: 0.0012\n",
      "Epoch 40/100\n",
      "629/629 [==============================] - 4s 6ms/step - loss: 0.0018\n",
      "Epoch 41/100\n",
      "629/629 [==============================] - 4s 6ms/step - loss: 0.0016\n",
      "Epoch 42/100\n",
      "629/629 [==============================] - 4s 6ms/step - loss: 0.0012\n",
      "Epoch 43/100\n",
      "629/629 [==============================] - 4s 6ms/step - loss: 0.0013\n",
      "Epoch 44/100\n",
      "629/629 [==============================] - 4s 6ms/step - loss: 0.0012\n",
      "Epoch 45/100\n",
      "629/629 [==============================] - 4s 6ms/step - loss: 9.9631e-04\n",
      "Epoch 46/100\n",
      "629/629 [==============================] - 4s 6ms/step - loss: 0.0010\n",
      "Epoch 47/100\n",
      "629/629 [==============================] - 4s 6ms/step - loss: 0.0010\n",
      "Epoch 48/100\n",
      "629/629 [==============================] - 4s 6ms/step - loss: 0.0012\n",
      "Epoch 49/100\n",
      "629/629 [==============================] - 4s 6ms/step - loss: 9.5825e-04\n",
      "Epoch 50/100\n",
      "629/629 [==============================] - 4s 6ms/step - loss: 0.0013\n",
      "Epoch 51/100\n",
      "629/629 [==============================] - 4s 6ms/step - loss: 0.0011\n",
      "Epoch 52/100\n",
      "629/629 [==============================] - 4s 6ms/step - loss: 0.0010\n",
      "Epoch 53/100\n",
      "629/629 [==============================] - 4s 6ms/step - loss: 0.0012\n",
      "Epoch 54/100\n",
      "629/629 [==============================] - 4s 6ms/step - loss: 0.0012\n",
      "Epoch 55/100\n",
      "629/629 [==============================] - 4s 6ms/step - loss: 0.0013\n",
      "Epoch 56/100\n",
      "629/629 [==============================] - 4s 6ms/step - loss: 0.0010\n",
      "Epoch 57/100\n",
      "629/629 [==============================] - 4s 6ms/step - loss: 8.3626e-04\n",
      "Epoch 58/100\n",
      "629/629 [==============================] - 4s 6ms/step - loss: 8.1862e-04\n",
      "Epoch 59/100\n",
      "629/629 [==============================] - 4s 6ms/step - loss: 8.5136e-04\n",
      "Epoch 60/100\n",
      "629/629 [==============================] - 3s 6ms/step - loss: 8.3293e-04\n",
      "Epoch 61/100\n",
      "629/629 [==============================] - 4s 6ms/step - loss: 8.5817e-04\n",
      "Epoch 62/100\n",
      "629/629 [==============================] - 4s 6ms/step - loss: 9.1522e-04\n",
      "Epoch 63/100\n",
      "629/629 [==============================] - 4s 6ms/step - loss: 0.0010\n",
      "Epoch 64/100\n",
      "629/629 [==============================] - 4s 6ms/step - loss: 9.7030e-04\n",
      "Epoch 65/100\n",
      "629/629 [==============================] - 4s 6ms/step - loss: 9.1438e-04\n",
      "Epoch 66/100\n",
      "629/629 [==============================] - 4s 6ms/step - loss: 8.3807e-04\n",
      "Epoch 67/100\n",
      "629/629 [==============================] - 4s 6ms/step - loss: 9.8897e-04\n",
      "Epoch 68/100\n",
      "629/629 [==============================] - 4s 6ms/step - loss: 0.0011\n",
      "Epoch 69/100\n",
      "629/629 [==============================] - 4s 6ms/step - loss: 0.0012\n",
      "Epoch 70/100\n",
      "629/629 [==============================] - 4s 6ms/step - loss: 9.0696e-04\n",
      "Epoch 71/100\n",
      "629/629 [==============================] - 4s 6ms/step - loss: 8.7014e-04\n",
      "Epoch 72/100\n",
      "629/629 [==============================] - 4s 6ms/step - loss: 0.0011\n",
      "Epoch 73/100\n",
      "629/629 [==============================] - 4s 6ms/step - loss: 8.1384e-04\n",
      "Epoch 74/100\n",
      "629/629 [==============================] - 4s 6ms/step - loss: 8.8563e-04\n",
      "Epoch 75/100\n",
      "629/629 [==============================] - 4s 6ms/step - loss: 7.1195e-04\n",
      "Epoch 76/100\n",
      "629/629 [==============================] - 4s 6ms/step - loss: 0.0010\n",
      "Epoch 77/100\n",
      "629/629 [==============================] - 4s 6ms/step - loss: 0.0012\n",
      "Epoch 78/100\n",
      "629/629 [==============================] - 4s 6ms/step - loss: 0.0014\n",
      "Epoch 79/100\n",
      "629/629 [==============================] - 4s 6ms/step - loss: 9.8855e-04\n",
      "Epoch 80/100\n",
      "629/629 [==============================] - 4s 6ms/step - loss: 8.2420e-04\n",
      "Epoch 81/100\n",
      "629/629 [==============================] - 4s 6ms/step - loss: 9.7823e-04\n",
      "Epoch 82/100\n",
      "629/629 [==============================] - 4s 6ms/step - loss: 5.8639e-04\n",
      "Epoch 83/100\n",
      "629/629 [==============================] - 4s 6ms/step - loss: 6.9749e-04\n",
      "Epoch 84/100\n",
      "629/629 [==============================] - 4s 6ms/step - loss: 8.8969e-04\n",
      "Epoch 85/100\n",
      "629/629 [==============================] - 4s 6ms/step - loss: 8.2623e-04\n",
      "Epoch 86/100\n",
      "629/629 [==============================] - 4s 6ms/step - loss: 9.7850e-04\n",
      "Epoch 87/100\n",
      "629/629 [==============================] - 4s 6ms/step - loss: 0.0010\n",
      "Epoch 88/100\n",
      "629/629 [==============================] - 4s 6ms/step - loss: 6.9035e-04\n",
      "Epoch 89/100\n",
      "629/629 [==============================] - 4s 6ms/step - loss: 5.8348e-04\n",
      "Epoch 90/100\n",
      "629/629 [==============================] - 4s 6ms/step - loss: 6.5423e-04\n",
      "Epoch 91/100\n",
      "629/629 [==============================] - 3s 6ms/step - loss: 5.4064e-04\n",
      "Epoch 92/100\n",
      "629/629 [==============================] - 4s 6ms/step - loss: 6.1766e-04\n",
      "Epoch 93/100\n",
      "629/629 [==============================] - 4s 6ms/step - loss: 7.0670e-04\n",
      "Epoch 94/100\n",
      "629/629 [==============================] - 4s 6ms/step - loss: 6.4348e-04\n",
      "Epoch 95/100\n"
     ]
    },
    {
     "name": "stdout",
     "output_type": "stream",
     "text": [
      "629/629 [==============================] - 4s 6ms/step - loss: 6.0715e-04\n",
      "Epoch 96/100\n",
      "629/629 [==============================] - 4s 6ms/step - loss: 6.4858e-04\n",
      "Epoch 97/100\n",
      "629/629 [==============================] - 4s 6ms/step - loss: 7.4402e-04\n",
      "Epoch 98/100\n",
      "629/629 [==============================] - 4s 6ms/step - loss: 6.1322e-04\n",
      "Epoch 99/100\n",
      "629/629 [==============================] - 4s 6ms/step - loss: 7.7627e-04\n",
      "Epoch 100/100\n",
      "629/629 [==============================] - 4s 6ms/step - loss: 7.5917e-04\n"
     ]
    },
    {
     "data": {
      "text/plain": [
       "<keras.callbacks.callbacks.History at 0x23a94c75978>"
      ]
     },
     "execution_count": 44,
     "metadata": {},
     "output_type": "execute_result"
    }
   ],
   "source": [
    "from keras.models import Sequential\n",
    "from keras.layers import Dense, SimpleRNN, Dropout,Flatten\n",
    "\n",
    "regressor=Sequential()\n",
    "#first RNN layer\n",
    "regressor.add(SimpleRNN(128,activation=\"relu\",return_sequences=True,input_shape=(x_train.shape[1],1)))\n",
    "regressor.add(Dropout(0.25))\n",
    "#second RNN layer\n",
    "regressor.add(SimpleRNN(256,activation=\"relu\",return_sequences=True))\n",
    "regressor.add(Dropout(0.25))\n",
    "#third RNN layer\n",
    "regressor.add(SimpleRNN(512,activation=\"relu\",return_sequences=True))\n",
    "regressor.add(Dropout(0.35))\n",
    "#fourth RNN layer\n",
    "regressor.add(SimpleRNN(256,activation=\"relu\",return_sequences=True))\n",
    "regressor.add(Dropout(0.25))\n",
    "#fifth RNN layer\n",
    "regressor.add(SimpleRNN(128,activation=\"relu\",return_sequences=True))\n",
    "regressor.add(Dropout(0.25))\n",
    "#convert the matrix to 1-line\n",
    "regressor.add(Flatten())\n",
    "#output layer\n",
    "regressor.add(Dense(1))\n",
    "\n",
    "regressor.compile(optimizer=\"adam\",loss=\"mean_squared_error\")\n",
    "regressor.fit(x_train,y_train,epochs=100,batch_size=64)"
   ]
  },
  {
   "cell_type": "code",
   "execution_count": 45,
   "metadata": {},
   "outputs": [],
   "source": [
    "inputs=data[len(data)-len(close_test)-timestep:]\n",
    "inputs=inputs.values.reshape(-1,1)\n",
    "inputs=scaler.transform(inputs)"
   ]
  },
  {
   "cell_type": "code",
   "execution_count": 47,
   "metadata": {},
   "outputs": [],
   "source": [
    "x_test=[]\n",
    "for i in range(timestep,inputs.shape[0]):\n",
    "    x_test.append(inputs[i-timestep:i,0])\n",
    "x_test=np.array(x_test)\n",
    "x_test=x_test.reshape(x_test.shape[0],x_test.shape[1],1)"
   ]
  },
  {
   "cell_type": "code",
   "execution_count": 48,
   "metadata": {},
   "outputs": [],
   "source": [
    "predicted_data=regressor.predict(x_test)\n",
    "predicted_data=scaler.inverse_transform(predicted_data)"
   ]
  },
  {
   "cell_type": "code",
   "execution_count": 49,
   "metadata": {},
   "outputs": [],
   "source": [
    "data_test=np.array(close_test)\n",
    "data_test=data_test.reshape(len(data_test),1)"
   ]
  },
  {
   "cell_type": "code",
   "execution_count": 50,
   "metadata": {},
   "outputs": [
    {
     "data": {
      "image/png": "[encoded data removed]",
      "text/plain": [
       "<Figure size 640x320 with 1 Axes>"
      ]
     },
     "metadata": {},
     "output_type": "display_data"
    }
   ],
   "source": [
    "plt.figure(figsize=(8,4), dpi=80, facecolor='w', edgecolor='k')\n",
    "plt.plot(data_test,color=\"r\",label=\"true result\")\n",
    "plt.plot(predicted_data,color=\"b\",label=\"predicted result\")\n",
    "plt.legend()\n",
    "plt.xlabel(\"Time(50 days)\")\n",
    "plt.ylabel(\"Close Values\")\n",
    "plt.grid(True)\n",
    "plt.show()"
   ]
  }
 ],
 "metadata": {
  "kernelspec": {
   "display_name": "Python 3",
   "language": "python",
   "name": "python3"
  },
  "language_info": {
   "codemirror_mode": {
    "name": "ipython",
    "version": 3
   },
   "file_extension": ".py",
   "mimetype": "text/x-python",
   "name": "python",
   "nbconvert_exporter": "python",
   "pygments_lexer": "ipython3",
   "version": "3.7.1"
  }
 },
 "nbformat": 4,
 "nbformat_minor": 4
}
