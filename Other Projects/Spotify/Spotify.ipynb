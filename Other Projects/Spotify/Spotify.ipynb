{
 "cells": [
  {
   "cell_type": "markdown",
   "metadata": {},
   "source": [
    "# Importing the Datasets"
   ]
  },
  {
   "cell_type": "code",
   "execution_count": 1,
   "metadata": {},
   "outputs": [],
   "source": [
    "import pandas as pd\n",
    "import numpy as np\n",
    "import seaborn as sns\n",
    "import matplotlib.pyplot as plt\n",
    "import matplotlib.gridspec as gridspec"
   ]
  },
  {
   "cell_type": "code",
   "execution_count": 2,
   "metadata": {},
   "outputs": [],
   "source": [
    "#Supress warnings\n",
    "\n",
    "import warnings\n",
    "warnings.filterwarnings('ignore')\n",
    "\n",
    "\n",
    "pd.set_option('display.max_columns',None)"
   ]
  },
  {
   "cell_type": "markdown",
   "metadata": {},
   "source": [
    "# Reading the Data into dataframe"
   ]
  },
  {
   "cell_type": "code",
   "execution_count": 3,
   "metadata": {},
   "outputs": [
    {
     "data": {
      "text/plain": [
       "(170653, 19)"
      ]
     },
     "execution_count": 3,
     "metadata": {},
     "output_type": "execute_result"
    }
   ],
   "source": [
    "data=pd.read_csv(r'C:\\Users\\Saurabh\\Data\\Spotify.csv',header=0 , low_memory=False)\n",
    "\n",
    "data.shape   #(855969, 73)\n"
   ]
  },
  {
   "cell_type": "markdown",
   "metadata": {},
   "source": [
    "# EDA"
   ]
  },
  {
   "cell_type": "code",
   "execution_count": 4,
   "metadata": {},
   "outputs": [
    {
     "data": {
      "text/html": [
       "<div>\n",
       "<style scoped>\n",
       "    .dataframe tbody tr th:only-of-type {\n",
       "        vertical-align: middle;\n",
       "    }\n",
       "\n",
       "    .dataframe tbody tr th {\n",
       "        vertical-align: top;\n",
       "    }\n",
       "\n",
       "    .dataframe thead th {\n",
       "        text-align: right;\n",
       "    }\n",
       "</style>\n",
       "<table border=\"1\" class=\"dataframe\">\n",
       "  <thead>\n",
       "    <tr style=\"text-align: right;\">\n",
       "      <th></th>\n",
       "      <th>valence</th>\n",
       "      <th>year</th>\n",
       "      <th>acousticness</th>\n",
       "      <th>artists</th>\n",
       "      <th>danceability</th>\n",
       "      <th>duration_ms</th>\n",
       "      <th>energy</th>\n",
       "      <th>explicit</th>\n",
       "      <th>id</th>\n",
       "      <th>instrumentalness</th>\n",
       "      <th>key</th>\n",
       "      <th>liveness</th>\n",
       "      <th>loudness</th>\n",
       "      <th>mode</th>\n",
       "      <th>name</th>\n",
       "      <th>popularity</th>\n",
       "      <th>release_date</th>\n",
       "      <th>speechiness</th>\n",
       "      <th>tempo</th>\n",
       "    </tr>\n",
       "  </thead>\n",
       "  <tbody>\n",
       "    <tr>\n",
       "      <th>0</th>\n",
       "      <td>0.0594</td>\n",
       "      <td>1921</td>\n",
       "      <td>0.982</td>\n",
       "      <td>['Sergei Rachmaninoff', 'James Levine', 'Berli...</td>\n",
       "      <td>0.279</td>\n",
       "      <td>831667</td>\n",
       "      <td>0.211</td>\n",
       "      <td>0</td>\n",
       "      <td>4BJqT0PrAfrxzMOxytFOIz</td>\n",
       "      <td>0.878000</td>\n",
       "      <td>10</td>\n",
       "      <td>0.665</td>\n",
       "      <td>-20.096</td>\n",
       "      <td>1</td>\n",
       "      <td>Piano Concerto No. 3 in D Minor, Op. 30: III. ...</td>\n",
       "      <td>4</td>\n",
       "      <td>1921</td>\n",
       "      <td>0.0366</td>\n",
       "      <td>80.954</td>\n",
       "    </tr>\n",
       "    <tr>\n",
       "      <th>1</th>\n",
       "      <td>0.9630</td>\n",
       "      <td>1921</td>\n",
       "      <td>0.732</td>\n",
       "      <td>['Dennis Day']</td>\n",
       "      <td>0.819</td>\n",
       "      <td>180533</td>\n",
       "      <td>0.341</td>\n",
       "      <td>0</td>\n",
       "      <td>7xPhfUan2yNtyFG0cUWkt8</td>\n",
       "      <td>0.000000</td>\n",
       "      <td>7</td>\n",
       "      <td>0.160</td>\n",
       "      <td>-12.441</td>\n",
       "      <td>1</td>\n",
       "      <td>Clancy Lowered the Boom</td>\n",
       "      <td>5</td>\n",
       "      <td>1921</td>\n",
       "      <td>0.4150</td>\n",
       "      <td>60.936</td>\n",
       "    </tr>\n",
       "    <tr>\n",
       "      <th>2</th>\n",
       "      <td>0.0394</td>\n",
       "      <td>1921</td>\n",
       "      <td>0.961</td>\n",
       "      <td>['KHP Kridhamardawa Karaton Ngayogyakarta Hadi...</td>\n",
       "      <td>0.328</td>\n",
       "      <td>500062</td>\n",
       "      <td>0.166</td>\n",
       "      <td>0</td>\n",
       "      <td>1o6I8BglA6ylDMrIELygv1</td>\n",
       "      <td>0.913000</td>\n",
       "      <td>3</td>\n",
       "      <td>0.101</td>\n",
       "      <td>-14.850</td>\n",
       "      <td>1</td>\n",
       "      <td>Gati Bali</td>\n",
       "      <td>5</td>\n",
       "      <td>1921</td>\n",
       "      <td>0.0339</td>\n",
       "      <td>110.339</td>\n",
       "    </tr>\n",
       "    <tr>\n",
       "      <th>3</th>\n",
       "      <td>0.1650</td>\n",
       "      <td>1921</td>\n",
       "      <td>0.967</td>\n",
       "      <td>['Frank Parker']</td>\n",
       "      <td>0.275</td>\n",
       "      <td>210000</td>\n",
       "      <td>0.309</td>\n",
       "      <td>0</td>\n",
       "      <td>3ftBPsC5vPBKxYSee08FDH</td>\n",
       "      <td>0.000028</td>\n",
       "      <td>5</td>\n",
       "      <td>0.381</td>\n",
       "      <td>-9.316</td>\n",
       "      <td>1</td>\n",
       "      <td>Danny Boy</td>\n",
       "      <td>3</td>\n",
       "      <td>1921</td>\n",
       "      <td>0.0354</td>\n",
       "      <td>100.109</td>\n",
       "    </tr>\n",
       "    <tr>\n",
       "      <th>4</th>\n",
       "      <td>0.2530</td>\n",
       "      <td>1921</td>\n",
       "      <td>0.957</td>\n",
       "      <td>['Phil Regan']</td>\n",
       "      <td>0.418</td>\n",
       "      <td>166693</td>\n",
       "      <td>0.193</td>\n",
       "      <td>0</td>\n",
       "      <td>4d6HGyGT8e121BsdKmw9v6</td>\n",
       "      <td>0.000002</td>\n",
       "      <td>3</td>\n",
       "      <td>0.229</td>\n",
       "      <td>-10.096</td>\n",
       "      <td>1</td>\n",
       "      <td>When Irish Eyes Are Smiling</td>\n",
       "      <td>2</td>\n",
       "      <td>1921</td>\n",
       "      <td>0.0380</td>\n",
       "      <td>101.665</td>\n",
       "    </tr>\n",
       "  </tbody>\n",
       "</table>\n",
       "</div>"
      ],
      "text/plain": [
       "   valence  year  acousticness  \\\n",
       "0   0.0594  1921         0.982   \n",
       "1   0.9630  1921         0.732   \n",
       "2   0.0394  1921         0.961   \n",
       "3   0.1650  1921         0.967   \n",
       "4   0.2530  1921         0.957   \n",
       "\n",
       "                                             artists  danceability  \\\n",
       "0  ['Sergei Rachmaninoff', 'James Levine', 'Berli...         0.279   \n",
       "1                                     ['Dennis Day']         0.819   \n",
       "2  ['KHP Kridhamardawa Karaton Ngayogyakarta Hadi...         0.328   \n",
       "3                                   ['Frank Parker']         0.275   \n",
       "4                                     ['Phil Regan']         0.418   \n",
       "\n",
       "   duration_ms  energy  explicit                      id  instrumentalness  \\\n",
       "0       831667   0.211         0  4BJqT0PrAfrxzMOxytFOIz          0.878000   \n",
       "1       180533   0.341         0  7xPhfUan2yNtyFG0cUWkt8          0.000000   \n",
       "2       500062   0.166         0  1o6I8BglA6ylDMrIELygv1          0.913000   \n",
       "3       210000   0.309         0  3ftBPsC5vPBKxYSee08FDH          0.000028   \n",
       "4       166693   0.193         0  4d6HGyGT8e121BsdKmw9v6          0.000002   \n",
       "\n",
       "   key  liveness  loudness  mode  \\\n",
       "0   10     0.665   -20.096     1   \n",
       "1    7     0.160   -12.441     1   \n",
       "2    3     0.101   -14.850     1   \n",
       "3    5     0.381    -9.316     1   \n",
       "4    3     0.229   -10.096     1   \n",
       "\n",
       "                                                name  popularity release_date  \\\n",
       "0  Piano Concerto No. 3 in D Minor, Op. 30: III. ...           4         1921   \n",
       "1                            Clancy Lowered the Boom           5         1921   \n",
       "2                                          Gati Bali           5         1921   \n",
       "3                                          Danny Boy           3         1921   \n",
       "4                        When Irish Eyes Are Smiling           2         1921   \n",
       "\n",
       "   speechiness    tempo  \n",
       "0       0.0366   80.954  \n",
       "1       0.4150   60.936  \n",
       "2       0.0339  110.339  \n",
       "3       0.0354  100.109  \n",
       "4       0.0380  101.665  "
      ]
     },
     "execution_count": 4,
     "metadata": {},
     "output_type": "execute_result"
    }
   ],
   "source": [
    "data.head()"
   ]
  },
  {
   "cell_type": "code",
   "execution_count": 5,
   "metadata": {},
   "outputs": [
    {
     "data": {
      "text/plain": [
       "Index(['valence', 'year', 'acousticness', 'artists', 'danceability',\n",
       "       'duration_ms', 'energy', 'explicit', 'id', 'instrumentalness', 'key',\n",
       "       'liveness', 'loudness', 'mode', 'name', 'popularity', 'release_date',\n",
       "       'speechiness', 'tempo'],\n",
       "      dtype='object')"
      ]
     },
     "execution_count": 5,
     "metadata": {},
     "output_type": "execute_result"
    }
   ],
   "source": [
    "data.columns"
   ]
  },
  {
   "cell_type": "code",
   "execution_count": 6,
   "metadata": {},
   "outputs": [],
   "source": [
    "neworder = ['valence', 'year', 'acousticness', 'artists', 'danceability',\n",
    "       'duration_ms', 'energy', 'explicit', 'id', 'instrumentalness', 'key',\n",
    "       'liveness', 'loudness', 'mode', 'name', 'release_date',\n",
    "       'speechiness', 'tempo', 'popularity']\n",
    "data=data.reindex(columns=neworder)"
   ]
  },
  {
   "cell_type": "code",
   "execution_count": 7,
   "metadata": {},
   "outputs": [
    {
     "data": {
      "text/plain": [
       "0      27892\n",
       "43      3136\n",
       "44      3117\n",
       "41      3078\n",
       "40      3051\n",
       "       ...  \n",
       "94         4\n",
       "93         4\n",
       "99         1\n",
       "97         1\n",
       "100        1\n",
       "Name: popularity, Length: 100, dtype: int64"
      ]
     },
     "execution_count": 7,
     "metadata": {},
     "output_type": "execute_result"
    }
   ],
   "source": [
    "data['popularity'].value_counts()"
   ]
  },
  {
   "cell_type": "markdown",
   "metadata": {},
   "source": [
    "# Checking Missing Values"
   ]
  },
  {
   "cell_type": "code",
   "execution_count": 8,
   "metadata": {},
   "outputs": [
    {
     "data": {
      "text/html": [
       "<div>\n",
       "<style scoped>\n",
       "    .dataframe tbody tr th:only-of-type {\n",
       "        vertical-align: middle;\n",
       "    }\n",
       "\n",
       "    .dataframe tbody tr th {\n",
       "        vertical-align: top;\n",
       "    }\n",
       "\n",
       "    .dataframe thead th {\n",
       "        text-align: right;\n",
       "    }\n",
       "</style>\n",
       "<table border=\"1\" class=\"dataframe\">\n",
       "  <thead>\n",
       "    <tr style=\"text-align: right;\">\n",
       "      <th></th>\n",
       "      <th>Total</th>\n",
       "      <th>Percent</th>\n",
       "    </tr>\n",
       "  </thead>\n",
       "  <tbody>\n",
       "    <tr>\n",
       "      <th>popularity</th>\n",
       "      <td>0</td>\n",
       "      <td>0.0</td>\n",
       "    </tr>\n",
       "    <tr>\n",
       "      <th>id</th>\n",
       "      <td>0</td>\n",
       "      <td>0.0</td>\n",
       "    </tr>\n",
       "    <tr>\n",
       "      <th>year</th>\n",
       "      <td>0</td>\n",
       "      <td>0.0</td>\n",
       "    </tr>\n",
       "    <tr>\n",
       "      <th>acousticness</th>\n",
       "      <td>0</td>\n",
       "      <td>0.0</td>\n",
       "    </tr>\n",
       "    <tr>\n",
       "      <th>artists</th>\n",
       "      <td>0</td>\n",
       "      <td>0.0</td>\n",
       "    </tr>\n",
       "    <tr>\n",
       "      <th>danceability</th>\n",
       "      <td>0</td>\n",
       "      <td>0.0</td>\n",
       "    </tr>\n",
       "    <tr>\n",
       "      <th>duration_ms</th>\n",
       "      <td>0</td>\n",
       "      <td>0.0</td>\n",
       "    </tr>\n",
       "    <tr>\n",
       "      <th>energy</th>\n",
       "      <td>0</td>\n",
       "      <td>0.0</td>\n",
       "    </tr>\n",
       "    <tr>\n",
       "      <th>explicit</th>\n",
       "      <td>0</td>\n",
       "      <td>0.0</td>\n",
       "    </tr>\n",
       "    <tr>\n",
       "      <th>instrumentalness</th>\n",
       "      <td>0</td>\n",
       "      <td>0.0</td>\n",
       "    </tr>\n",
       "    <tr>\n",
       "      <th>tempo</th>\n",
       "      <td>0</td>\n",
       "      <td>0.0</td>\n",
       "    </tr>\n",
       "    <tr>\n",
       "      <th>key</th>\n",
       "      <td>0</td>\n",
       "      <td>0.0</td>\n",
       "    </tr>\n",
       "    <tr>\n",
       "      <th>liveness</th>\n",
       "      <td>0</td>\n",
       "      <td>0.0</td>\n",
       "    </tr>\n",
       "    <tr>\n",
       "      <th>loudness</th>\n",
       "      <td>0</td>\n",
       "      <td>0.0</td>\n",
       "    </tr>\n",
       "    <tr>\n",
       "      <th>mode</th>\n",
       "      <td>0</td>\n",
       "      <td>0.0</td>\n",
       "    </tr>\n",
       "    <tr>\n",
       "      <th>name</th>\n",
       "      <td>0</td>\n",
       "      <td>0.0</td>\n",
       "    </tr>\n",
       "    <tr>\n",
       "      <th>release_date</th>\n",
       "      <td>0</td>\n",
       "      <td>0.0</td>\n",
       "    </tr>\n",
       "    <tr>\n",
       "      <th>speechiness</th>\n",
       "      <td>0</td>\n",
       "      <td>0.0</td>\n",
       "    </tr>\n",
       "    <tr>\n",
       "      <th>valence</th>\n",
       "      <td>0</td>\n",
       "      <td>0.0</td>\n",
       "    </tr>\n",
       "  </tbody>\n",
       "</table>\n",
       "</div>"
      ],
      "text/plain": [
       "                  Total  Percent\n",
       "popularity            0      0.0\n",
       "id                    0      0.0\n",
       "year                  0      0.0\n",
       "acousticness          0      0.0\n",
       "artists               0      0.0\n",
       "danceability          0      0.0\n",
       "duration_ms           0      0.0\n",
       "energy                0      0.0\n",
       "explicit              0      0.0\n",
       "instrumentalness      0      0.0\n",
       "tempo                 0      0.0\n",
       "key                   0      0.0\n",
       "liveness              0      0.0\n",
       "loudness              0      0.0\n",
       "mode                  0      0.0\n",
       "name                  0      0.0\n",
       "release_date          0      0.0\n",
       "speechiness           0      0.0\n",
       "valence               0      0.0"
      ]
     },
     "execution_count": 8,
     "metadata": {},
     "output_type": "execute_result"
    }
   ],
   "source": [
    "total = data.isnull().sum().sort_values(ascending=False)\n",
    "percent= (data.isnull().sum()/data.isnull().count()  * 100).sort_values(ascending=False)\n",
    "missing_data = pd.concat([total,percent],axis=1,keys=['Total','Percent'])\n",
    "missing_data.head(32)"
   ]
  },
  {
   "cell_type": "markdown",
   "metadata": {},
   "source": [
    "# Converting categorical variables into numerical ones"
   ]
  },
  {
   "cell_type": "code",
   "execution_count": 9,
   "metadata": {},
   "outputs": [
    {
     "data": {
      "text/plain": [
       "['artists', 'id', 'name', 'release_date']"
      ]
     },
     "execution_count": 9,
     "metadata": {},
     "output_type": "execute_result"
    }
   ],
   "source": [
    "colname=[]\n",
    "for x in data.columns:\n",
    "    if data[x].dtype=='object':\n",
    "        colname.append(x)\n",
    "colname"
   ]
  },
  {
   "cell_type": "code",
   "execution_count": 10,
   "metadata": {},
   "outputs": [],
   "source": [
    "from sklearn import preprocessing\n",
    "\n",
    "le=preprocessing.LabelEncoder()\n",
    "\n",
    "for x in colname:\n",
    "    data[x]=le.fit_transform(data[x])"
   ]
  },
  {
   "cell_type": "code",
   "execution_count": 11,
   "metadata": {},
   "outputs": [
    {
     "data": {
      "text/html": [
       "<div>\n",
       "<style scoped>\n",
       "    .dataframe tbody tr th:only-of-type {\n",
       "        vertical-align: middle;\n",
       "    }\n",
       "\n",
       "    .dataframe tbody tr th {\n",
       "        vertical-align: top;\n",
       "    }\n",
       "\n",
       "    .dataframe thead th {\n",
       "        text-align: right;\n",
       "    }\n",
       "</style>\n",
       "<table border=\"1\" class=\"dataframe\">\n",
       "  <thead>\n",
       "    <tr style=\"text-align: right;\">\n",
       "      <th></th>\n",
       "      <th>valence</th>\n",
       "      <th>year</th>\n",
       "      <th>acousticness</th>\n",
       "      <th>artists</th>\n",
       "      <th>danceability</th>\n",
       "      <th>duration_ms</th>\n",
       "      <th>energy</th>\n",
       "      <th>explicit</th>\n",
       "      <th>id</th>\n",
       "      <th>instrumentalness</th>\n",
       "      <th>key</th>\n",
       "      <th>liveness</th>\n",
       "      <th>loudness</th>\n",
       "      <th>mode</th>\n",
       "      <th>name</th>\n",
       "      <th>release_date</th>\n",
       "      <th>speechiness</th>\n",
       "      <th>tempo</th>\n",
       "      <th>popularity</th>\n",
       "    </tr>\n",
       "  </thead>\n",
       "  <tbody>\n",
       "    <tr>\n",
       "      <th>0</th>\n",
       "      <td>0.0594</td>\n",
       "      <td>1921</td>\n",
       "      <td>0.98200</td>\n",
       "      <td>26839</td>\n",
       "      <td>0.279</td>\n",
       "      <td>831667</td>\n",
       "      <td>0.211</td>\n",
       "      <td>0</td>\n",
       "      <td>96623</td>\n",
       "      <td>0.878000</td>\n",
       "      <td>10</td>\n",
       "      <td>0.6650</td>\n",
       "      <td>-20.096</td>\n",
       "      <td>1</td>\n",
       "      <td>83631</td>\n",
       "      <td>0</td>\n",
       "      <td>0.0366</td>\n",
       "      <td>80.954</td>\n",
       "      <td>4</td>\n",
       "    </tr>\n",
       "    <tr>\n",
       "      <th>1</th>\n",
       "      <td>0.9630</td>\n",
       "      <td>1921</td>\n",
       "      <td>0.73200</td>\n",
       "      <td>7382</td>\n",
       "      <td>0.819</td>\n",
       "      <td>180533</td>\n",
       "      <td>0.341</td>\n",
       "      <td>0</td>\n",
       "      <td>169794</td>\n",
       "      <td>0.000000</td>\n",
       "      <td>7</td>\n",
       "      <td>0.1600</td>\n",
       "      <td>-12.441</td>\n",
       "      <td>1</td>\n",
       "      <td>20291</td>\n",
       "      <td>0</td>\n",
       "      <td>0.4150</td>\n",
       "      <td>60.936</td>\n",
       "      <td>5</td>\n",
       "    </tr>\n",
       "    <tr>\n",
       "      <th>2</th>\n",
       "      <td>0.0394</td>\n",
       "      <td>1921</td>\n",
       "      <td>0.96100</td>\n",
       "      <td>16378</td>\n",
       "      <td>0.328</td>\n",
       "      <td>500062</td>\n",
       "      <td>0.166</td>\n",
       "      <td>0</td>\n",
       "      <td>43559</td>\n",
       "      <td>0.913000</td>\n",
       "      <td>3</td>\n",
       "      <td>0.1010</td>\n",
       "      <td>-14.850</td>\n",
       "      <td>1</td>\n",
       "      <td>38094</td>\n",
       "      <td>0</td>\n",
       "      <td>0.0339</td>\n",
       "      <td>110.339</td>\n",
       "      <td>5</td>\n",
       "    </tr>\n",
       "    <tr>\n",
       "      <th>3</th>\n",
       "      <td>0.1650</td>\n",
       "      <td>1921</td>\n",
       "      <td>0.96700</td>\n",
       "      <td>10077</td>\n",
       "      <td>0.275</td>\n",
       "      <td>210000</td>\n",
       "      <td>0.309</td>\n",
       "      <td>0</td>\n",
       "      <td>85809</td>\n",
       "      <td>0.000028</td>\n",
       "      <td>5</td>\n",
       "      <td>0.3810</td>\n",
       "      <td>-9.316</td>\n",
       "      <td>1</td>\n",
       "      <td>24147</td>\n",
       "      <td>0</td>\n",
       "      <td>0.0354</td>\n",
       "      <td>100.109</td>\n",
       "      <td>3</td>\n",
       "    </tr>\n",
       "    <tr>\n",
       "      <th>4</th>\n",
       "      <td>0.2530</td>\n",
       "      <td>1921</td>\n",
       "      <td>0.95700</td>\n",
       "      <td>23719</td>\n",
       "      <td>0.418</td>\n",
       "      <td>166693</td>\n",
       "      <td>0.193</td>\n",
       "      <td>0</td>\n",
       "      <td>105991</td>\n",
       "      <td>0.000002</td>\n",
       "      <td>3</td>\n",
       "      <td>0.2290</td>\n",
       "      <td>-10.096</td>\n",
       "      <td>1</td>\n",
       "      <td>123247</td>\n",
       "      <td>0</td>\n",
       "      <td>0.0380</td>\n",
       "      <td>101.665</td>\n",
       "      <td>2</td>\n",
       "    </tr>\n",
       "    <tr>\n",
       "      <th>...</th>\n",
       "      <td>...</td>\n",
       "      <td>...</td>\n",
       "      <td>...</td>\n",
       "      <td>...</td>\n",
       "      <td>...</td>\n",
       "      <td>...</td>\n",
       "      <td>...</td>\n",
       "      <td>...</td>\n",
       "      <td>...</td>\n",
       "      <td>...</td>\n",
       "      <td>...</td>\n",
       "      <td>...</td>\n",
       "      <td>...</td>\n",
       "      <td>...</td>\n",
       "      <td>...</td>\n",
       "      <td>...</td>\n",
       "      <td>...</td>\n",
       "      <td>...</td>\n",
       "      <td>...</td>\n",
       "    </tr>\n",
       "    <tr>\n",
       "      <th>170648</th>\n",
       "      <td>0.6080</td>\n",
       "      <td>2020</td>\n",
       "      <td>0.08460</td>\n",
       "      <td>2159</td>\n",
       "      <td>0.786</td>\n",
       "      <td>301714</td>\n",
       "      <td>0.808</td>\n",
       "      <td>0</td>\n",
       "      <td>8059</td>\n",
       "      <td>0.000289</td>\n",
       "      <td>7</td>\n",
       "      <td>0.0822</td>\n",
       "      <td>-3.702</td>\n",
       "      <td>1</td>\n",
       "      <td>19540</td>\n",
       "      <td>11119</td>\n",
       "      <td>0.0881</td>\n",
       "      <td>105.029</td>\n",
       "      <td>72</td>\n",
       "    </tr>\n",
       "    <tr>\n",
       "      <th>170649</th>\n",
       "      <td>0.7340</td>\n",
       "      <td>2020</td>\n",
       "      <td>0.20600</td>\n",
       "      <td>2498</td>\n",
       "      <td>0.717</td>\n",
       "      <td>150654</td>\n",
       "      <td>0.753</td>\n",
       "      <td>0</td>\n",
       "      <td>9542</td>\n",
       "      <td>0.000000</td>\n",
       "      <td>7</td>\n",
       "      <td>0.1010</td>\n",
       "      <td>-6.020</td>\n",
       "      <td>1</td>\n",
       "      <td>41982</td>\n",
       "      <td>11219</td>\n",
       "      <td>0.0605</td>\n",
       "      <td>137.936</td>\n",
       "      <td>68</td>\n",
       "    </tr>\n",
       "    <tr>\n",
       "      <th>170650</th>\n",
       "      <td>0.6370</td>\n",
       "      <td>2020</td>\n",
       "      <td>0.10100</td>\n",
       "      <td>19497</td>\n",
       "      <td>0.634</td>\n",
       "      <td>211280</td>\n",
       "      <td>0.858</td>\n",
       "      <td>0</td>\n",
       "      <td>96709</td>\n",
       "      <td>0.000009</td>\n",
       "      <td>4</td>\n",
       "      <td>0.2580</td>\n",
       "      <td>-2.226</td>\n",
       "      <td>0</td>\n",
       "      <td>3324</td>\n",
       "      <td>11228</td>\n",
       "      <td>0.0809</td>\n",
       "      <td>91.688</td>\n",
       "      <td>76</td>\n",
       "    </tr>\n",
       "    <tr>\n",
       "      <th>170651</th>\n",
       "      <td>0.1950</td>\n",
       "      <td>2020</td>\n",
       "      <td>0.00998</td>\n",
       "      <td>8943</td>\n",
       "      <td>0.671</td>\n",
       "      <td>337147</td>\n",
       "      <td>0.623</td>\n",
       "      <td>1</td>\n",
       "      <td>123331</td>\n",
       "      <td>0.000008</td>\n",
       "      <td>2</td>\n",
       "      <td>0.6430</td>\n",
       "      <td>-7.161</td>\n",
       "      <td>1</td>\n",
       "      <td>24295</td>\n",
       "      <td>11038</td>\n",
       "      <td>0.3080</td>\n",
       "      <td>75.055</td>\n",
       "      <td>70</td>\n",
       "    </tr>\n",
       "    <tr>\n",
       "      <th>170652</th>\n",
       "      <td>0.6420</td>\n",
       "      <td>2020</td>\n",
       "      <td>0.13200</td>\n",
       "      <td>16375</td>\n",
       "      <td>0.856</td>\n",
       "      <td>189507</td>\n",
       "      <td>0.721</td>\n",
       "      <td>1</td>\n",
       "      <td>160618</td>\n",
       "      <td>0.004710</td>\n",
       "      <td>7</td>\n",
       "      <td>0.1820</td>\n",
       "      <td>-4.928</td>\n",
       "      <td>1</td>\n",
       "      <td>12444</td>\n",
       "      <td>11213</td>\n",
       "      <td>0.1080</td>\n",
       "      <td>94.991</td>\n",
       "      <td>74</td>\n",
       "    </tr>\n",
       "  </tbody>\n",
       "</table>\n",
       "<p>170653 rows × 19 columns</p>\n",
       "</div>"
      ],
      "text/plain": [
       "        valence  year  acousticness  artists  danceability  duration_ms  \\\n",
       "0        0.0594  1921       0.98200    26839         0.279       831667   \n",
       "1        0.9630  1921       0.73200     7382         0.819       180533   \n",
       "2        0.0394  1921       0.96100    16378         0.328       500062   \n",
       "3        0.1650  1921       0.96700    10077         0.275       210000   \n",
       "4        0.2530  1921       0.95700    23719         0.418       166693   \n",
       "...         ...   ...           ...      ...           ...          ...   \n",
       "170648   0.6080  2020       0.08460     2159         0.786       301714   \n",
       "170649   0.7340  2020       0.20600     2498         0.717       150654   \n",
       "170650   0.6370  2020       0.10100    19497         0.634       211280   \n",
       "170651   0.1950  2020       0.00998     8943         0.671       337147   \n",
       "170652   0.6420  2020       0.13200    16375         0.856       189507   \n",
       "\n",
       "        energy  explicit      id  instrumentalness  key  liveness  loudness  \\\n",
       "0        0.211         0   96623          0.878000   10    0.6650   -20.096   \n",
       "1        0.341         0  169794          0.000000    7    0.1600   -12.441   \n",
       "2        0.166         0   43559          0.913000    3    0.1010   -14.850   \n",
       "3        0.309         0   85809          0.000028    5    0.3810    -9.316   \n",
       "4        0.193         0  105991          0.000002    3    0.2290   -10.096   \n",
       "...        ...       ...     ...               ...  ...       ...       ...   \n",
       "170648   0.808         0    8059          0.000289    7    0.0822    -3.702   \n",
       "170649   0.753         0    9542          0.000000    7    0.1010    -6.020   \n",
       "170650   0.858         0   96709          0.000009    4    0.2580    -2.226   \n",
       "170651   0.623         1  123331          0.000008    2    0.6430    -7.161   \n",
       "170652   0.721         1  160618          0.004710    7    0.1820    -4.928   \n",
       "\n",
       "        mode    name  release_date  speechiness    tempo  popularity  \n",
       "0          1   83631             0       0.0366   80.954           4  \n",
       "1          1   20291             0       0.4150   60.936           5  \n",
       "2          1   38094             0       0.0339  110.339           5  \n",
       "3          1   24147             0       0.0354  100.109           3  \n",
       "4          1  123247             0       0.0380  101.665           2  \n",
       "...      ...     ...           ...          ...      ...         ...  \n",
       "170648     1   19540         11119       0.0881  105.029          72  \n",
       "170649     1   41982         11219       0.0605  137.936          68  \n",
       "170650     0    3324         11228       0.0809   91.688          76  \n",
       "170651     1   24295         11038       0.3080   75.055          70  \n",
       "170652     1   12444         11213       0.1080   94.991          74  \n",
       "\n",
       "[170653 rows x 19 columns]"
      ]
     },
     "execution_count": 11,
     "metadata": {},
     "output_type": "execute_result"
    }
   ],
   "source": [
    "data"
   ]
  },
  {
   "cell_type": "code",
   "execution_count": 12,
   "metadata": {},
   "outputs": [
    {
     "name": "stdout",
     "output_type": "stream",
     "text": [
      "<class 'pandas.core.frame.DataFrame'>\n",
      "RangeIndex: 170653 entries, 0 to 170652\n",
      "Data columns (total 19 columns):\n",
      " #   Column            Non-Null Count   Dtype  \n",
      "---  ------            --------------   -----  \n",
      " 0   valence           170653 non-null  float64\n",
      " 1   year              170653 non-null  int64  \n",
      " 2   acousticness      170653 non-null  float64\n",
      " 3   artists           170653 non-null  int32  \n",
      " 4   danceability      170653 non-null  float64\n",
      " 5   duration_ms       170653 non-null  int64  \n",
      " 6   energy            170653 non-null  float64\n",
      " 7   explicit          170653 non-null  int64  \n",
      " 8   id                170653 non-null  int32  \n",
      " 9   instrumentalness  170653 non-null  float64\n",
      " 10  key               170653 non-null  int64  \n",
      " 11  liveness          170653 non-null  float64\n",
      " 12  loudness          170653 non-null  float64\n",
      " 13  mode              170653 non-null  int64  \n",
      " 14  name              170653 non-null  int32  \n",
      " 15  release_date      170653 non-null  int32  \n",
      " 16  speechiness       170653 non-null  float64\n",
      " 17  tempo             170653 non-null  float64\n",
      " 18  popularity        170653 non-null  int64  \n",
      "dtypes: float64(9), int32(4), int64(6)\n",
      "memory usage: 22.1 MB\n"
     ]
    }
   ],
   "source": [
    "data.info()"
   ]
  },
  {
   "cell_type": "markdown",
   "metadata": {},
   "source": [
    "# Naming the independent and dependant variables"
   ]
  },
  {
   "cell_type": "code",
   "execution_count": 13,
   "metadata": {},
   "outputs": [],
   "source": [
    "X=data.values[:,:-1]\n",
    "Y=data.values[:,-1]\n",
    "Y=Y.astype(int)\n"
   ]
  },
  {
   "cell_type": "markdown",
   "metadata": {},
   "source": [
    "# Scaling"
   ]
  },
  {
   "cell_type": "code",
   "execution_count": 14,
   "metadata": {},
   "outputs": [],
   "source": [
    "from sklearn.preprocessing import StandardScaler\n",
    "\n",
    "scaler = StandardScaler()\n",
    "scaler.fit(X)\n",
    "\n",
    "X=scaler.transform(X)"
   ]
  },
  {
   "cell_type": "markdown",
   "metadata": {},
   "source": [
    "# Spliting the data into train and test"
   ]
  },
  {
   "cell_type": "code",
   "execution_count": 15,
   "metadata": {},
   "outputs": [],
   "source": [
    "from sklearn.model_selection import train_test_split\n",
    "\n",
    "#Split the data into test and train\n",
    "X_train, X_test, Y_train, Y_test = train_test_split(X, Y, test_size=0.3,\n",
    "random_state=10)"
   ]
  },
  {
   "cell_type": "markdown",
   "metadata": {},
   "source": [
    "# Implementing Linear Regression"
   ]
  },
  {
   "cell_type": "code",
   "execution_count": 22,
   "metadata": {},
   "outputs": [
    {
     "name": "stdout",
     "output_type": "stream",
     "text": [
      "31.43179434290634\n",
      "[ 1.36677102e-01  1.82015406e+01 -1.52060040e+00 -3.50980965e-01\n",
      "  4.68698130e-01 -6.25413221e-02 -4.66848746e-01  3.27277633e-01\n",
      "  6.93967959e-01 -1.26305744e+00  2.32140825e-03 -5.20027737e-01\n",
      "  1.65829755e-01 -9.72081562e-02 -1.01733096e-01 -9.62451046e-01\n",
      " -1.14560389e+00  5.44711794e-02]\n"
     ]
    }
   ],
   "source": [
    "from sklearn.linear_model import LinearRegression\n",
    "\n",
    "LR = LinearRegression()\n",
    "LR.fit(X, Y)\n",
    "print(LR.intercept_)\n",
    "print(LR.coef_)"
   ]
  },
  {
   "cell_type": "code",
   "execution_count": 23,
   "metadata": {},
   "outputs": [
    {
     "name": "stdout",
     "output_type": "stream",
     "text": [
      "[60.3508078  13.61485631 20.46798325 ... 41.7455372  25.81779056\n",
      " 52.07422679]\n"
     ]
    }
   ],
   "source": [
    "Y_pred= LR.predict(X_test)\n",
    "print(Y_pred)"
   ]
  },
  {
   "cell_type": "code",
   "execution_count": 24,
   "metadata": {},
   "outputs": [
    {
     "name": "stdout",
     "output_type": "stream",
     "text": [
      "0.7578527041490722\n",
      "10.731754060426939\n",
      "0.7578271602872082\n"
     ]
    }
   ],
   "source": [
    "from sklearn.metrics import r2_score,mean_squared_error\n",
    "import numpy as np\n",
    "\n",
    "r2=r2_score(Y_test,Y_pred)\n",
    "print(r2)\n",
    "\n",
    "rmse=np.sqrt(mean_squared_error(Y_test,Y_pred))\n",
    "print(rmse)\n",
    "\n",
    "adjusted_r_squared = 1 - (1-r2)*(len(Y)-1)/(len(Y)-X.shape[1]-1)\n",
    "print(adjusted_r_squared)"
   ]
  },
  {
   "cell_type": "markdown",
   "metadata": {},
   "source": [
    "# Implementing ElasticNetCV"
   ]
  },
  {
   "cell_type": "code",
   "execution_count": 26,
   "metadata": {},
   "outputs": [
    {
     "name": "stdout",
     "output_type": "stream",
     "text": [
      "[60.66871911 13.74847601 19.4392065  ... 41.8291175  25.24766923\n",
      " 52.67727198]\n"
     ]
    }
   ],
   "source": [
    "from sklearn.linear_model import ElasticNetCV\n",
    "model = ElasticNetCV()\n",
    "model.fit(X_train, Y_train)\n",
    "Y_pred= model.predict(X_test)\n",
    "print(Y_pred)"
   ]
  },
  {
   "cell_type": "code",
   "execution_count": 27,
   "metadata": {},
   "outputs": [
    {
     "name": "stdout",
     "output_type": "stream",
     "text": [
      "0.7560489957075924\n",
      "10.771649287002445\n",
      "0.7560232615744346\n"
     ]
    }
   ],
   "source": [
    "from sklearn.metrics import r2_score,mean_squared_error\n",
    "import numpy as np\n",
    "\n",
    "r2=r2_score(Y_test,Y_pred)\n",
    "print(r2)\n",
    "\n",
    "rmse=np.sqrt(mean_squared_error(Y_test,Y_pred))\n",
    "print(rmse)\n",
    "\n",
    "adjusted_r_squared = 1 - (1-r2)*(len(Y)-1)/(len(Y)-X.shape[1]-1)\n",
    "print(adjusted_r_squared)"
   ]
  },
  {
   "cell_type": "markdown",
   "metadata": {},
   "source": [
    "# Implementing Ridge Regression"
   ]
  },
  {
   "cell_type": "code",
   "execution_count": 30,
   "metadata": {},
   "outputs": [],
   "source": [
    "from sklearn.linear_model import Ridge\n",
    "#create a model object\n",
    "lm = Ridge()\n",
    "\n",
    "#train the model object\n",
    "lm.fit(X_train,Y_train)\n",
    "Y_pred=lm.predict(X_test)"
   ]
  },
  {
   "cell_type": "code",
   "execution_count": 31,
   "metadata": {},
   "outputs": [
    {
     "name": "stdout",
     "output_type": "stream",
     "text": [
      "0.7577897427718076\n",
      "10.733149166033435\n",
      "0.7577641922682145\n"
     ]
    }
   ],
   "source": [
    "\n",
    "\n",
    "from sklearn.metrics import r2_score,mean_squared_error\n",
    "import numpy as np\n",
    "\n",
    "r2=r2_score(Y_test,Y_pred)\n",
    "print(r2)\n",
    "\n",
    "rmse=np.sqrt(mean_squared_error(Y_test,Y_pred))\n",
    "print(rmse)\n",
    "\n",
    "adjusted_r_squared = 1 - (1-r2)*(len(Y)-1)/(len(Y)-X.shape[1]-1)\n",
    "print(adjusted_r_squared)"
   ]
  },
  {
   "cell_type": "markdown",
   "metadata": {},
   "source": [
    "# Implementing DT Regressor"
   ]
  },
  {
   "cell_type": "code",
   "execution_count": 16,
   "metadata": {},
   "outputs": [
    {
     "data": {
      "text/plain": [
       "DecisionTreeRegressor(random_state=10)"
      ]
     },
     "execution_count": 16,
     "metadata": {},
     "output_type": "execute_result"
    }
   ],
   "source": [
    "from sklearn.tree import DecisionTreeRegressor\n",
    "\n",
    "model_DecisionTree = DecisionTreeRegressor(\n",
    "                                            random_state=10)\n",
    "\n",
    "model_DecisionTree.fit(X_train,Y_train)"
   ]
  },
  {
   "cell_type": "code",
   "execution_count": 17,
   "metadata": {},
   "outputs": [
    {
     "name": "stdout",
     "output_type": "stream",
     "text": [
      "[64.  0. 31. ... 57. 30. 41.]\n"
     ]
    }
   ],
   "source": [
    "Y_pred= model_DecisionTree.predict(X_test)\n",
    "print(Y_pred)"
   ]
  },
  {
   "cell_type": "code",
   "execution_count": 18,
   "metadata": {},
   "outputs": [
    {
     "name": "stdout",
     "output_type": "stream",
     "text": [
      "0.6466400614443769\n",
      "12.964015900115893\n",
      "0.6466027858785811\n"
     ]
    }
   ],
   "source": [
    "from sklearn.metrics import r2_score,mean_squared_error\n",
    "import numpy as np\n",
    "\n",
    "r2=r2_score(Y_test,Y_pred)\n",
    "print(r2)\n",
    "\n",
    "rmse=np.sqrt(mean_squared_error(Y_test,Y_pred))\n",
    "print(rmse)\n",
    "\n",
    "adjusted_r_squared = 1 - (1-r2)*(len(Y)-1)/(len(Y)-X.shape[1]-1)\n",
    "print(adjusted_r_squared)"
   ]
  },
  {
   "cell_type": "code",
   "execution_count": null,
   "metadata": {},
   "outputs": [],
   "source": []
  }
 ],
 "metadata": {
  "kernelspec": {
   "display_name": "Python 3",
   "language": "python",
   "name": "python3"
  },
  "language_info": {
   "codemirror_mode": {
    "name": "ipython",
    "version": 3
   },
   "file_extension": ".py",
   "mimetype": "text/x-python",
   "name": "python",
   "nbconvert_exporter": "python",
   "pygments_lexer": "ipython3",
   "version": "3.8.3"
  }
 },
 "nbformat": 4,
 "nbformat_minor": 4
}
